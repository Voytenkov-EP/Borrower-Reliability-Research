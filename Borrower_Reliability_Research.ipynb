{
  "nbformat": 4,
  "nbformat_minor": 0,
  "metadata": {
    "kernelspec": {
      "display_name": "Python 3",
      "language": "python",
      "name": "python3"
    },
    "language_info": {
      "codemirror_mode": {
        "name": "ipython",
        "version": 3
      },
      "file_extension": ".py",
      "mimetype": "text/x-python",
      "name": "python",
      "nbconvert_exporter": "python",
      "pygments_lexer": "ipython3",
      "version": "3.7.8"
    },
    "toc": {
      "base_numbering": 1,
      "nav_menu": {},
      "number_sections": true,
      "sideBar": true,
      "skip_h1_title": true,
      "title_cell": "Table of Contents",
      "title_sidebar": "Contents",
      "toc_cell": false,
      "toc_position": {
        "height": "calc(100% - 180px)",
        "left": "10px",
        "top": "150px",
        "width": "205.6px"
      },
      "toc_section_display": true,
      "toc_window_display": false
    },
    "colab": {
      "name": "Borrower Reliability Research.ipynb",
      "provenance": []
    }
  },
  "cells": [
    {
      "cell_type": "markdown",
      "metadata": {
        "id": "d1w8pIHzTPiN"
      },
      "source": [
        "# Исследование надёжности заёмщиков\n",
        "\n",
        "Заказчик — кредитный отдел банка. Нужно разобраться, влияет ли семейное положение и количество детей клиента на факт погашения кредита в срок. Входные данные от банка — статистика о платёжеспособности клиентов.\n",
        "\n",
        "Результаты исследования будут учтены при построении модели **кредитного скоринга** — специальной системы, которая оценивает способность потенциального заёмщика вернуть кредит банку."
      ]
    },
    {
      "cell_type": "markdown",
      "metadata": {
        "id": "wwStkpEGTPiO"
      },
      "source": [
        "## Шаг 1. Открытие файла с данными и изучение общей информации"
      ]
    },
    {
      "cell_type": "code",
      "metadata": {
        "id": "1EYYh34OTPiP"
      },
      "source": [
        "import pandas as pd\n",
        "main_table = pd.read_csv(\"/datasets/data.csv\")\n",
        "from pymystem3 import Mystem\n",
        "m = Mystem()\n",
        "from collections import Counter\n",
        "import numpy as np"
      ],
      "execution_count": null,
      "outputs": []
    },
    {
      "cell_type": "code",
      "metadata": {
        "id": "vLQ4M7grTPiP",
        "outputId": "889b445b-7982-40a1-c4f0-ef433bff6141"
      },
      "source": [
        "pd.set_option('display.max_columns', None)\n",
        "pd.set_option('display.max_rows', None)\n",
        "\n",
        "solvency_table = main_table[['children', 'family_status', 'family_status_id', 'debt', 'total_income', 'purpose']]\n",
        "main_table.head(15)"
      ],
      "execution_count": null,
      "outputs": [
        {
          "output_type": "execute_result",
          "data": {
            "text/html": [
              "<div>\n",
              "<style scoped>\n",
              "    .dataframe tbody tr th:only-of-type {\n",
              "        vertical-align: middle;\n",
              "    }\n",
              "\n",
              "    .dataframe tbody tr th {\n",
              "        vertical-align: top;\n",
              "    }\n",
              "\n",
              "    .dataframe thead th {\n",
              "        text-align: right;\n",
              "    }\n",
              "</style>\n",
              "<table border=\"1\" class=\"dataframe\">\n",
              "  <thead>\n",
              "    <tr style=\"text-align: right;\">\n",
              "      <th></th>\n",
              "      <th>children</th>\n",
              "      <th>days_employed</th>\n",
              "      <th>dob_years</th>\n",
              "      <th>education</th>\n",
              "      <th>education_id</th>\n",
              "      <th>family_status</th>\n",
              "      <th>family_status_id</th>\n",
              "      <th>gender</th>\n",
              "      <th>income_type</th>\n",
              "      <th>debt</th>\n",
              "      <th>total_income</th>\n",
              "      <th>purpose</th>\n",
              "    </tr>\n",
              "  </thead>\n",
              "  <tbody>\n",
              "    <tr>\n",
              "      <td>0</td>\n",
              "      <td>1</td>\n",
              "      <td>-8437.673028</td>\n",
              "      <td>42</td>\n",
              "      <td>высшее</td>\n",
              "      <td>0</td>\n",
              "      <td>женат / замужем</td>\n",
              "      <td>0</td>\n",
              "      <td>F</td>\n",
              "      <td>сотрудник</td>\n",
              "      <td>0</td>\n",
              "      <td>253875.639453</td>\n",
              "      <td>покупка жилья</td>\n",
              "    </tr>\n",
              "    <tr>\n",
              "      <td>1</td>\n",
              "      <td>1</td>\n",
              "      <td>-4024.803754</td>\n",
              "      <td>36</td>\n",
              "      <td>среднее</td>\n",
              "      <td>1</td>\n",
              "      <td>женат / замужем</td>\n",
              "      <td>0</td>\n",
              "      <td>F</td>\n",
              "      <td>сотрудник</td>\n",
              "      <td>0</td>\n",
              "      <td>112080.014102</td>\n",
              "      <td>приобретение автомобиля</td>\n",
              "    </tr>\n",
              "    <tr>\n",
              "      <td>2</td>\n",
              "      <td>0</td>\n",
              "      <td>-5623.422610</td>\n",
              "      <td>33</td>\n",
              "      <td>Среднее</td>\n",
              "      <td>1</td>\n",
              "      <td>женат / замужем</td>\n",
              "      <td>0</td>\n",
              "      <td>M</td>\n",
              "      <td>сотрудник</td>\n",
              "      <td>0</td>\n",
              "      <td>145885.952297</td>\n",
              "      <td>покупка жилья</td>\n",
              "    </tr>\n",
              "    <tr>\n",
              "      <td>3</td>\n",
              "      <td>3</td>\n",
              "      <td>-4124.747207</td>\n",
              "      <td>32</td>\n",
              "      <td>среднее</td>\n",
              "      <td>1</td>\n",
              "      <td>женат / замужем</td>\n",
              "      <td>0</td>\n",
              "      <td>M</td>\n",
              "      <td>сотрудник</td>\n",
              "      <td>0</td>\n",
              "      <td>267628.550329</td>\n",
              "      <td>дополнительное образование</td>\n",
              "    </tr>\n",
              "    <tr>\n",
              "      <td>4</td>\n",
              "      <td>0</td>\n",
              "      <td>340266.072047</td>\n",
              "      <td>53</td>\n",
              "      <td>среднее</td>\n",
              "      <td>1</td>\n",
              "      <td>гражданский брак</td>\n",
              "      <td>1</td>\n",
              "      <td>F</td>\n",
              "      <td>пенсионер</td>\n",
              "      <td>0</td>\n",
              "      <td>158616.077870</td>\n",
              "      <td>сыграть свадьбу</td>\n",
              "    </tr>\n",
              "    <tr>\n",
              "      <td>5</td>\n",
              "      <td>0</td>\n",
              "      <td>-926.185831</td>\n",
              "      <td>27</td>\n",
              "      <td>высшее</td>\n",
              "      <td>0</td>\n",
              "      <td>гражданский брак</td>\n",
              "      <td>1</td>\n",
              "      <td>M</td>\n",
              "      <td>компаньон</td>\n",
              "      <td>0</td>\n",
              "      <td>255763.565419</td>\n",
              "      <td>покупка жилья</td>\n",
              "    </tr>\n",
              "    <tr>\n",
              "      <td>6</td>\n",
              "      <td>0</td>\n",
              "      <td>-2879.202052</td>\n",
              "      <td>43</td>\n",
              "      <td>высшее</td>\n",
              "      <td>0</td>\n",
              "      <td>женат / замужем</td>\n",
              "      <td>0</td>\n",
              "      <td>F</td>\n",
              "      <td>компаньон</td>\n",
              "      <td>0</td>\n",
              "      <td>240525.971920</td>\n",
              "      <td>операции с жильем</td>\n",
              "    </tr>\n",
              "    <tr>\n",
              "      <td>7</td>\n",
              "      <td>0</td>\n",
              "      <td>-152.779569</td>\n",
              "      <td>50</td>\n",
              "      <td>СРЕДНЕЕ</td>\n",
              "      <td>1</td>\n",
              "      <td>женат / замужем</td>\n",
              "      <td>0</td>\n",
              "      <td>M</td>\n",
              "      <td>сотрудник</td>\n",
              "      <td>0</td>\n",
              "      <td>135823.934197</td>\n",
              "      <td>образование</td>\n",
              "    </tr>\n",
              "    <tr>\n",
              "      <td>8</td>\n",
              "      <td>2</td>\n",
              "      <td>-6929.865299</td>\n",
              "      <td>35</td>\n",
              "      <td>ВЫСШЕЕ</td>\n",
              "      <td>0</td>\n",
              "      <td>гражданский брак</td>\n",
              "      <td>1</td>\n",
              "      <td>F</td>\n",
              "      <td>сотрудник</td>\n",
              "      <td>0</td>\n",
              "      <td>95856.832424</td>\n",
              "      <td>на проведение свадьбы</td>\n",
              "    </tr>\n",
              "    <tr>\n",
              "      <td>9</td>\n",
              "      <td>0</td>\n",
              "      <td>-2188.756445</td>\n",
              "      <td>41</td>\n",
              "      <td>среднее</td>\n",
              "      <td>1</td>\n",
              "      <td>женат / замужем</td>\n",
              "      <td>0</td>\n",
              "      <td>M</td>\n",
              "      <td>сотрудник</td>\n",
              "      <td>0</td>\n",
              "      <td>144425.938277</td>\n",
              "      <td>покупка жилья для семьи</td>\n",
              "    </tr>\n",
              "    <tr>\n",
              "      <td>10</td>\n",
              "      <td>2</td>\n",
              "      <td>-4171.483647</td>\n",
              "      <td>36</td>\n",
              "      <td>высшее</td>\n",
              "      <td>0</td>\n",
              "      <td>женат / замужем</td>\n",
              "      <td>0</td>\n",
              "      <td>M</td>\n",
              "      <td>компаньон</td>\n",
              "      <td>0</td>\n",
              "      <td>113943.491460</td>\n",
              "      <td>покупка недвижимости</td>\n",
              "    </tr>\n",
              "    <tr>\n",
              "      <td>11</td>\n",
              "      <td>0</td>\n",
              "      <td>-792.701887</td>\n",
              "      <td>40</td>\n",
              "      <td>среднее</td>\n",
              "      <td>1</td>\n",
              "      <td>женат / замужем</td>\n",
              "      <td>0</td>\n",
              "      <td>F</td>\n",
              "      <td>сотрудник</td>\n",
              "      <td>0</td>\n",
              "      <td>77069.234271</td>\n",
              "      <td>покупка коммерческой недвижимости</td>\n",
              "    </tr>\n",
              "    <tr>\n",
              "      <td>12</td>\n",
              "      <td>0</td>\n",
              "      <td>NaN</td>\n",
              "      <td>65</td>\n",
              "      <td>среднее</td>\n",
              "      <td>1</td>\n",
              "      <td>гражданский брак</td>\n",
              "      <td>1</td>\n",
              "      <td>M</td>\n",
              "      <td>пенсионер</td>\n",
              "      <td>0</td>\n",
              "      <td>NaN</td>\n",
              "      <td>сыграть свадьбу</td>\n",
              "    </tr>\n",
              "    <tr>\n",
              "      <td>13</td>\n",
              "      <td>0</td>\n",
              "      <td>-1846.641941</td>\n",
              "      <td>54</td>\n",
              "      <td>неоконченное высшее</td>\n",
              "      <td>2</td>\n",
              "      <td>женат / замужем</td>\n",
              "      <td>0</td>\n",
              "      <td>F</td>\n",
              "      <td>сотрудник</td>\n",
              "      <td>0</td>\n",
              "      <td>130458.228857</td>\n",
              "      <td>приобретение автомобиля</td>\n",
              "    </tr>\n",
              "    <tr>\n",
              "      <td>14</td>\n",
              "      <td>0</td>\n",
              "      <td>-1844.956182</td>\n",
              "      <td>56</td>\n",
              "      <td>высшее</td>\n",
              "      <td>0</td>\n",
              "      <td>гражданский брак</td>\n",
              "      <td>1</td>\n",
              "      <td>F</td>\n",
              "      <td>компаньон</td>\n",
              "      <td>1</td>\n",
              "      <td>165127.911772</td>\n",
              "      <td>покупка жилой недвижимости</td>\n",
              "    </tr>\n",
              "  </tbody>\n",
              "</table>\n",
              "</div>"
            ],
            "text/plain": [
              "    children  days_employed  dob_years            education  education_id  \\\n",
              "0          1   -8437.673028         42               высшее             0   \n",
              "1          1   -4024.803754         36              среднее             1   \n",
              "2          0   -5623.422610         33              Среднее             1   \n",
              "3          3   -4124.747207         32              среднее             1   \n",
              "4          0  340266.072047         53              среднее             1   \n",
              "5          0    -926.185831         27               высшее             0   \n",
              "6          0   -2879.202052         43               высшее             0   \n",
              "7          0    -152.779569         50              СРЕДНЕЕ             1   \n",
              "8          2   -6929.865299         35               ВЫСШЕЕ             0   \n",
              "9          0   -2188.756445         41              среднее             1   \n",
              "10         2   -4171.483647         36               высшее             0   \n",
              "11         0    -792.701887         40              среднее             1   \n",
              "12         0            NaN         65              среднее             1   \n",
              "13         0   -1846.641941         54  неоконченное высшее             2   \n",
              "14         0   -1844.956182         56               высшее             0   \n",
              "\n",
              "       family_status  family_status_id gender income_type  debt  \\\n",
              "0    женат / замужем                 0      F   сотрудник     0   \n",
              "1    женат / замужем                 0      F   сотрудник     0   \n",
              "2    женат / замужем                 0      M   сотрудник     0   \n",
              "3    женат / замужем                 0      M   сотрудник     0   \n",
              "4   гражданский брак                 1      F   пенсионер     0   \n",
              "5   гражданский брак                 1      M   компаньон     0   \n",
              "6    женат / замужем                 0      F   компаньон     0   \n",
              "7    женат / замужем                 0      M   сотрудник     0   \n",
              "8   гражданский брак                 1      F   сотрудник     0   \n",
              "9    женат / замужем                 0      M   сотрудник     0   \n",
              "10   женат / замужем                 0      M   компаньон     0   \n",
              "11   женат / замужем                 0      F   сотрудник     0   \n",
              "12  гражданский брак                 1      M   пенсионер     0   \n",
              "13   женат / замужем                 0      F   сотрудник     0   \n",
              "14  гражданский брак                 1      F   компаньон     1   \n",
              "\n",
              "     total_income                            purpose  \n",
              "0   253875.639453                      покупка жилья  \n",
              "1   112080.014102            приобретение автомобиля  \n",
              "2   145885.952297                      покупка жилья  \n",
              "3   267628.550329         дополнительное образование  \n",
              "4   158616.077870                    сыграть свадьбу  \n",
              "5   255763.565419                      покупка жилья  \n",
              "6   240525.971920                  операции с жильем  \n",
              "7   135823.934197                        образование  \n",
              "8    95856.832424              на проведение свадьбы  \n",
              "9   144425.938277            покупка жилья для семьи  \n",
              "10  113943.491460               покупка недвижимости  \n",
              "11   77069.234271  покупка коммерческой недвижимости  \n",
              "12            NaN                    сыграть свадьбу  \n",
              "13  130458.228857            приобретение автомобиля  \n",
              "14  165127.911772         покупка жилой недвижимости  "
            ]
          },
          "metadata": {
            "tags": []
          },
          "execution_count": 184
        }
      ]
    },
    {
      "cell_type": "code",
      "metadata": {
        "id": "UuYn5T3pTPiR",
        "outputId": "85075dc5-7819-4232-ccfb-c1c796f29f59"
      },
      "source": [
        "main_table.info()"
      ],
      "execution_count": null,
      "outputs": [
        {
          "output_type": "stream",
          "text": [
            "<class 'pandas.core.frame.DataFrame'>\n",
            "RangeIndex: 21525 entries, 0 to 21524\n",
            "Data columns (total 12 columns):\n",
            "children            21525 non-null int64\n",
            "days_employed       19351 non-null float64\n",
            "dob_years           21525 non-null int64\n",
            "education           21525 non-null object\n",
            "education_id        21525 non-null int64\n",
            "family_status       21525 non-null object\n",
            "family_status_id    21525 non-null int64\n",
            "gender              21525 non-null object\n",
            "income_type         21525 non-null object\n",
            "debt                21525 non-null int64\n",
            "total_income        19351 non-null float64\n",
            "purpose             21525 non-null object\n",
            "dtypes: float64(2), int64(5), object(5)\n",
            "memory usage: 2.0+ MB\n"
          ],
          "name": "stdout"
        }
      ]
    },
    {
      "cell_type": "markdown",
      "metadata": {
        "id": "zi-GJS2gTPiR"
      },
      "source": [
        "**Вывод**"
      ]
    },
    {
      "cell_type": "markdown",
      "metadata": {
        "id": "xWFEGNVRTPiR"
      },
      "source": [
        "В исходной таблице присутствуют столбцы, которые не влияют на результаты исследования. К этим столбцам относятся:\n",
        "- days_employed\n",
        "- dob_years\n",
        "- education\n",
        "- gender\n",
        "- income_type\n",
        "\n",
        "Среди данных столбцов обнаружены артефакты, такие как отрицательный стаж работы, стаж работы превышающий сто лет. Эти и другие неясные вещи при необходимости можно было бы уточнить у того отдела, который составил данную таблицу.\n",
        "На основе исхдной таблицы было составлена новая, только с теми столбцами, которые могут пригодится в исследовании."
      ]
    },
    {
      "cell_type": "markdown",
      "metadata": {
        "id": "f_4H7uWiTPiS"
      },
      "source": [
        "В общей информации о таблице видно, что есть пропуски данных в столбцах days_employed и total_income. Также, в информации о таблице виден тип данных каждого столбца."
      ]
    },
    {
      "cell_type": "markdown",
      "metadata": {
        "id": "zG3qyhi3TPiT"
      },
      "source": [
        "## Шаг 2. Предобработка данных"
      ]
    },
    {
      "cell_type": "markdown",
      "metadata": {
        "id": "bt3uif-GTPiT"
      },
      "source": [
        "### Обработка пропусков"
      ]
    },
    {
      "cell_type": "code",
      "metadata": {
        "id": "fvfvANvyTPiT"
      },
      "source": [
        "pd.options.mode.chained_assignment = None  \n",
        "# убрал ошибку, которая не останавливала выволнение кода, но визуально выглядело некрасиво"
      ],
      "execution_count": null,
      "outputs": []
    },
    {
      "cell_type": "code",
      "metadata": {
        "id": "WDO9pOqxTPiT",
        "outputId": "3d9805d8-137d-4b91-a758-fc868bcf9dff"
      },
      "source": [
        "solvency_table.info()"
      ],
      "execution_count": null,
      "outputs": [
        {
          "output_type": "stream",
          "text": [
            "<class 'pandas.core.frame.DataFrame'>\n",
            "RangeIndex: 21525 entries, 0 to 21524\n",
            "Data columns (total 6 columns):\n",
            "children            21525 non-null int64\n",
            "family_status       21525 non-null object\n",
            "family_status_id    21525 non-null int64\n",
            "debt                21525 non-null int64\n",
            "total_income        19351 non-null float64\n",
            "purpose             21525 non-null object\n",
            "dtypes: float64(1), int64(3), object(2)\n",
            "memory usage: 1009.1+ KB\n"
          ],
          "name": "stdout"
        }
      ]
    },
    {
      "cell_type": "code",
      "metadata": {
        "id": "ZqREH1QnTPiU"
      },
      "source": [
        "total_income_median = solvency_table['total_income'].median()\n",
        "solvency_table['total_income'] = solvency_table['total_income'].fillna(total_income_median)"
      ],
      "execution_count": null,
      "outputs": []
    },
    {
      "cell_type": "markdown",
      "metadata": {
        "id": "WK3OMG2uTPiU"
      },
      "source": [
        "**Вывод**"
      ]
    },
    {
      "cell_type": "markdown",
      "metadata": {
        "id": "hLZ1Zm4uTPiU"
      },
      "source": [
        "В столбце 'total_income' было около 10% пропусков. Было решено, что данный процент слишком велик, чтобы удалять строчки с пустым значением. Пустые значения были заменены медианой, поскольку, на мой взгляд, таким образом удалось избежать смещения баланса значений столбца."
      ]
    },
    {
      "cell_type": "markdown",
      "metadata": {
        "id": "JDI12khGTPiV"
      },
      "source": [
        "Пропуски могли появится из-за ошибки, при обработки бланка (для получения кредита), из-за ошибки загрузки/выгрузки данных бланка на/из сервер(а) или изначально в бланке было не заполнено определенное поле."
      ]
    },
    {
      "cell_type": "markdown",
      "metadata": {
        "id": "QT6tfWqvTPiV"
      },
      "source": [
        "### Замена типа данных"
      ]
    },
    {
      "cell_type": "code",
      "metadata": {
        "id": "JfrNuoEXTPiV",
        "outputId": "3e392724-1844-421c-bbc0-77cb149228ff"
      },
      "source": [
        "solvency_table['children'] = solvency_table['children'].abs()\n",
        "solvency_table['children'].unique()"
      ],
      "execution_count": null,
      "outputs": [
        {
          "output_type": "execute_result",
          "data": {
            "text/plain": [
              "array([ 1,  0,  3,  2,  4, 20,  5])"
            ]
          },
          "metadata": {
            "tags": []
          },
          "execution_count": 189
        }
      ]
    },
    {
      "cell_type": "code",
      "metadata": {
        "id": "PacUxnb3TPiV",
        "outputId": "ca59f610-bcca-4651-8858-8d4c7ba617a4"
      },
      "source": [
        "solvency_table['total_income'] = solvency_table['total_income'].astype(np.int64)\n",
        "solvency_table.info()"
      ],
      "execution_count": null,
      "outputs": [
        {
          "output_type": "stream",
          "text": [
            "<class 'pandas.core.frame.DataFrame'>\n",
            "RangeIndex: 21525 entries, 0 to 21524\n",
            "Data columns (total 6 columns):\n",
            "children            21525 non-null int64\n",
            "family_status       21525 non-null object\n",
            "family_status_id    21525 non-null int64\n",
            "debt                21525 non-null int64\n",
            "total_income        21525 non-null int64\n",
            "purpose             21525 non-null object\n",
            "dtypes: int64(4), object(2)\n",
            "memory usage: 1009.1+ KB\n"
          ],
          "name": "stdout"
        }
      ]
    },
    {
      "cell_type": "markdown",
      "metadata": {
        "id": "UsPftDP_TPiW"
      },
      "source": [
        "**Вывод**"
      ]
    },
    {
      "cell_type": "markdown",
      "metadata": {
        "id": "3nvz2Bg8TPiW"
      },
      "source": [
        "В столбце 'children' были обнаружены отрицательные значения, чего быть не может. Поэтому значение для столбца было взято по модулю. Также бросается в глаза резкое увеличение значений столбца после значения 5. Возможно, это является артефактом. Но также может быть, что это следует трактовать как \"более 5 детей\". Это можно было бы уточнить у отдела, составлявшего исходную таблицу."
      ]
    },
    {
      "cell_type": "markdown",
      "metadata": {
        "id": "Rcn2pTm6TPiW"
      },
      "source": [
        "В столбце 'total_income' заменил вещественный тип данных на целочисленнный. Это было сделано для того, чтобы визуально сделать информацию в таблице более понятной."
      ]
    },
    {
      "cell_type": "markdown",
      "metadata": {
        "id": "GxzfZ6EHTPiW"
      },
      "source": [
        "<div class=\"alert alert-danger\">\n",
        "\n",
        "**Комментарий ревьюера:** На данном этапе попрошу тебя изменить вещественный тип данных в изучаемых столбцах на целочисленный.\n",
        "</div>"
      ]
    },
    {
      "cell_type": "markdown",
      "metadata": {
        "id": "M-r48naPTPiX"
      },
      "source": [
        "<div class=\"alert alert-info\"> <b>Комментарий студента:</b> Изменил вещественный тип данных на целочисленный</div>"
      ]
    },
    {
      "cell_type": "markdown",
      "metadata": {
        "id": "XBNniYX9TPiX"
      },
      "source": [
        "### Обработка дубликатов"
      ]
    },
    {
      "cell_type": "code",
      "metadata": {
        "id": "77K7Tna3TPiX",
        "outputId": "31736f3d-c892-4a99-8739-3d6577d2208d"
      },
      "source": [
        "solvency_table.duplicated().sum()\n",
        "solvency_table = solvency_table.drop_duplicates()\n",
        "solvency_table.info()"
      ],
      "execution_count": null,
      "outputs": [
        {
          "output_type": "stream",
          "text": [
            "<class 'pandas.core.frame.DataFrame'>\n",
            "Int64Index: 19832 entries, 0 to 21524\n",
            "Data columns (total 6 columns):\n",
            "children            19832 non-null int64\n",
            "family_status       19832 non-null object\n",
            "family_status_id    19832 non-null int64\n",
            "debt                19832 non-null int64\n",
            "total_income        19832 non-null int64\n",
            "purpose             19832 non-null object\n",
            "dtypes: int64(4), object(2)\n",
            "memory usage: 1.1+ MB\n"
          ],
          "name": "stdout"
        }
      ]
    },
    {
      "cell_type": "code",
      "metadata": {
        "id": "YNQWTVaLTPiY",
        "outputId": "b8954f24-4917-457f-a604-263fc4b71e4c"
      },
      "source": [
        "solvency_table = solvency_table.reset_index()\n",
        "del solvency_table['index']\n",
        "solvency_table.info()\n",
        "solvency_table.head()"
      ],
      "execution_count": null,
      "outputs": [
        {
          "output_type": "stream",
          "text": [
            "<class 'pandas.core.frame.DataFrame'>\n",
            "RangeIndex: 19832 entries, 0 to 19831\n",
            "Data columns (total 6 columns):\n",
            "children            19832 non-null int64\n",
            "family_status       19832 non-null object\n",
            "family_status_id    19832 non-null int64\n",
            "debt                19832 non-null int64\n",
            "total_income        19832 non-null int64\n",
            "purpose             19832 non-null object\n",
            "dtypes: int64(4), object(2)\n",
            "memory usage: 929.8+ KB\n"
          ],
          "name": "stdout"
        },
        {
          "output_type": "execute_result",
          "data": {
            "text/html": [
              "<div>\n",
              "<style scoped>\n",
              "    .dataframe tbody tr th:only-of-type {\n",
              "        vertical-align: middle;\n",
              "    }\n",
              "\n",
              "    .dataframe tbody tr th {\n",
              "        vertical-align: top;\n",
              "    }\n",
              "\n",
              "    .dataframe thead th {\n",
              "        text-align: right;\n",
              "    }\n",
              "</style>\n",
              "<table border=\"1\" class=\"dataframe\">\n",
              "  <thead>\n",
              "    <tr style=\"text-align: right;\">\n",
              "      <th></th>\n",
              "      <th>children</th>\n",
              "      <th>family_status</th>\n",
              "      <th>family_status_id</th>\n",
              "      <th>debt</th>\n",
              "      <th>total_income</th>\n",
              "      <th>purpose</th>\n",
              "    </tr>\n",
              "  </thead>\n",
              "  <tbody>\n",
              "    <tr>\n",
              "      <td>0</td>\n",
              "      <td>1</td>\n",
              "      <td>женат / замужем</td>\n",
              "      <td>0</td>\n",
              "      <td>0</td>\n",
              "      <td>253875</td>\n",
              "      <td>покупка жилья</td>\n",
              "    </tr>\n",
              "    <tr>\n",
              "      <td>1</td>\n",
              "      <td>1</td>\n",
              "      <td>женат / замужем</td>\n",
              "      <td>0</td>\n",
              "      <td>0</td>\n",
              "      <td>112080</td>\n",
              "      <td>приобретение автомобиля</td>\n",
              "    </tr>\n",
              "    <tr>\n",
              "      <td>2</td>\n",
              "      <td>0</td>\n",
              "      <td>женат / замужем</td>\n",
              "      <td>0</td>\n",
              "      <td>0</td>\n",
              "      <td>145885</td>\n",
              "      <td>покупка жилья</td>\n",
              "    </tr>\n",
              "    <tr>\n",
              "      <td>3</td>\n",
              "      <td>3</td>\n",
              "      <td>женат / замужем</td>\n",
              "      <td>0</td>\n",
              "      <td>0</td>\n",
              "      <td>267628</td>\n",
              "      <td>дополнительное образование</td>\n",
              "    </tr>\n",
              "    <tr>\n",
              "      <td>4</td>\n",
              "      <td>0</td>\n",
              "      <td>гражданский брак</td>\n",
              "      <td>1</td>\n",
              "      <td>0</td>\n",
              "      <td>158616</td>\n",
              "      <td>сыграть свадьбу</td>\n",
              "    </tr>\n",
              "  </tbody>\n",
              "</table>\n",
              "</div>"
            ],
            "text/plain": [
              "   children     family_status  family_status_id  debt  total_income  \\\n",
              "0         1   женат / замужем                 0     0        253875   \n",
              "1         1   женат / замужем                 0     0        112080   \n",
              "2         0   женат / замужем                 0     0        145885   \n",
              "3         3   женат / замужем                 0     0        267628   \n",
              "4         0  гражданский брак                 1     0        158616   \n",
              "\n",
              "                      purpose  \n",
              "0               покупка жилья  \n",
              "1     приобретение автомобиля  \n",
              "2               покупка жилья  \n",
              "3  дополнительное образование  \n",
              "4             сыграть свадьбу  "
            ]
          },
          "metadata": {
            "tags": []
          },
          "execution_count": 194
        }
      ]
    },
    {
      "cell_type": "markdown",
      "metadata": {
        "id": "fM29GArNTPiY"
      },
      "source": [
        "**Вывод**"
      ]
    },
    {
      "cell_type": "markdown",
      "metadata": {
        "id": "kcQY9hpOTPiZ"
      },
      "source": [
        "Методом .duplicated().sum() было обнаружено 1680 дубликатов сток. Для избежания искажения результатов исследования, дубликаты были удалены методом drop_duplicates(). Индексы были обновлены методом reset_index(). Поскольку при использовании метода reset_index() с аргументом drop = True вылезала ошибка, пришлось применить метод без аргумента, и затем удалить столбец со старыми индексами."
      ]
    },
    {
      "cell_type": "markdown",
      "metadata": {
        "id": "mu5D4x3CTPiZ"
      },
      "source": [
        "На мой взгляд, появление дубликатов может быть обусловлено ошибками в процессе хранения банных на сервере."
      ]
    },
    {
      "cell_type": "markdown",
      "metadata": {
        "id": "ACZYWRK-TPia"
      },
      "source": [
        "### Лемматизация"
      ]
    },
    {
      "cell_type": "code",
      "metadata": {
        "id": "-1VTDfRvTPia"
      },
      "source": [
        "line = -1 #Переменная, которая показывает, какая стока обрабатывается в текущий момент\n",
        "for element in solvency_table['purpose']:\n",
        "    text = element\n",
        "    line += 1 #Каждый раз, когда цикл обрабатывает новую стоку, переменная увеличивается на 1\n",
        "    lemmas = m.lemmatize(text)\n",
        "    if 'автомобиль' in lemmas:\n",
        "        solvency_table['purpose'][line] = 'автомобиль' #Тут и пригождается переменная line\n",
        "    elif 'свадьба' in lemmas:\n",
        "        solvency_table['purpose'][line] = 'свадьба'\n",
        "    elif 'образование' in lemmas:\n",
        "        solvency_table['purpose'][line] = 'образование'\n",
        "    elif 'жильё' in lemmas:\n",
        "         solvency_table['purpose'][line] = 'недвижимость'\n",
        "    elif 'жилье' in lemmas:\n",
        "         solvency_table['purpose'][line] = 'недвижимость'\n",
        "    elif 'недвижимость' in lemmas:\n",
        "         solvency_table['purpose'][line] = 'недвижимость'"
      ],
      "execution_count": null,
      "outputs": []
    },
    {
      "cell_type": "code",
      "metadata": {
        "id": "0Ma74mpwTPia",
        "outputId": "f77f0258-e5a5-4121-bcc1-fdcd078cd3ac"
      },
      "source": [
        "solvency_table.head(15)"
      ],
      "execution_count": null,
      "outputs": [
        {
          "output_type": "execute_result",
          "data": {
            "text/html": [
              "<div>\n",
              "<style scoped>\n",
              "    .dataframe tbody tr th:only-of-type {\n",
              "        vertical-align: middle;\n",
              "    }\n",
              "\n",
              "    .dataframe tbody tr th {\n",
              "        vertical-align: top;\n",
              "    }\n",
              "\n",
              "    .dataframe thead th {\n",
              "        text-align: right;\n",
              "    }\n",
              "</style>\n",
              "<table border=\"1\" class=\"dataframe\">\n",
              "  <thead>\n",
              "    <tr style=\"text-align: right;\">\n",
              "      <th></th>\n",
              "      <th>children</th>\n",
              "      <th>family_status</th>\n",
              "      <th>family_status_id</th>\n",
              "      <th>debt</th>\n",
              "      <th>total_income</th>\n",
              "      <th>purpose</th>\n",
              "    </tr>\n",
              "  </thead>\n",
              "  <tbody>\n",
              "    <tr>\n",
              "      <td>0</td>\n",
              "      <td>1</td>\n",
              "      <td>женат / замужем</td>\n",
              "      <td>0</td>\n",
              "      <td>0</td>\n",
              "      <td>253875</td>\n",
              "      <td>недвижимость</td>\n",
              "    </tr>\n",
              "    <tr>\n",
              "      <td>1</td>\n",
              "      <td>1</td>\n",
              "      <td>женат / замужем</td>\n",
              "      <td>0</td>\n",
              "      <td>0</td>\n",
              "      <td>112080</td>\n",
              "      <td>автомобиль</td>\n",
              "    </tr>\n",
              "    <tr>\n",
              "      <td>2</td>\n",
              "      <td>0</td>\n",
              "      <td>женат / замужем</td>\n",
              "      <td>0</td>\n",
              "      <td>0</td>\n",
              "      <td>145885</td>\n",
              "      <td>недвижимость</td>\n",
              "    </tr>\n",
              "    <tr>\n",
              "      <td>3</td>\n",
              "      <td>3</td>\n",
              "      <td>женат / замужем</td>\n",
              "      <td>0</td>\n",
              "      <td>0</td>\n",
              "      <td>267628</td>\n",
              "      <td>образование</td>\n",
              "    </tr>\n",
              "    <tr>\n",
              "      <td>4</td>\n",
              "      <td>0</td>\n",
              "      <td>гражданский брак</td>\n",
              "      <td>1</td>\n",
              "      <td>0</td>\n",
              "      <td>158616</td>\n",
              "      <td>свадьба</td>\n",
              "    </tr>\n",
              "    <tr>\n",
              "      <td>5</td>\n",
              "      <td>0</td>\n",
              "      <td>гражданский брак</td>\n",
              "      <td>1</td>\n",
              "      <td>0</td>\n",
              "      <td>255763</td>\n",
              "      <td>недвижимость</td>\n",
              "    </tr>\n",
              "    <tr>\n",
              "      <td>6</td>\n",
              "      <td>0</td>\n",
              "      <td>женат / замужем</td>\n",
              "      <td>0</td>\n",
              "      <td>0</td>\n",
              "      <td>240525</td>\n",
              "      <td>недвижимость</td>\n",
              "    </tr>\n",
              "    <tr>\n",
              "      <td>7</td>\n",
              "      <td>0</td>\n",
              "      <td>женат / замужем</td>\n",
              "      <td>0</td>\n",
              "      <td>0</td>\n",
              "      <td>135823</td>\n",
              "      <td>образование</td>\n",
              "    </tr>\n",
              "    <tr>\n",
              "      <td>8</td>\n",
              "      <td>2</td>\n",
              "      <td>гражданский брак</td>\n",
              "      <td>1</td>\n",
              "      <td>0</td>\n",
              "      <td>95856</td>\n",
              "      <td>свадьба</td>\n",
              "    </tr>\n",
              "    <tr>\n",
              "      <td>9</td>\n",
              "      <td>0</td>\n",
              "      <td>женат / замужем</td>\n",
              "      <td>0</td>\n",
              "      <td>0</td>\n",
              "      <td>144425</td>\n",
              "      <td>недвижимость</td>\n",
              "    </tr>\n",
              "    <tr>\n",
              "      <td>10</td>\n",
              "      <td>2</td>\n",
              "      <td>женат / замужем</td>\n",
              "      <td>0</td>\n",
              "      <td>0</td>\n",
              "      <td>113943</td>\n",
              "      <td>недвижимость</td>\n",
              "    </tr>\n",
              "    <tr>\n",
              "      <td>11</td>\n",
              "      <td>0</td>\n",
              "      <td>женат / замужем</td>\n",
              "      <td>0</td>\n",
              "      <td>0</td>\n",
              "      <td>77069</td>\n",
              "      <td>недвижимость</td>\n",
              "    </tr>\n",
              "    <tr>\n",
              "      <td>12</td>\n",
              "      <td>0</td>\n",
              "      <td>гражданский брак</td>\n",
              "      <td>1</td>\n",
              "      <td>0</td>\n",
              "      <td>145017</td>\n",
              "      <td>свадьба</td>\n",
              "    </tr>\n",
              "    <tr>\n",
              "      <td>13</td>\n",
              "      <td>0</td>\n",
              "      <td>женат / замужем</td>\n",
              "      <td>0</td>\n",
              "      <td>0</td>\n",
              "      <td>130458</td>\n",
              "      <td>автомобиль</td>\n",
              "    </tr>\n",
              "    <tr>\n",
              "      <td>14</td>\n",
              "      <td>0</td>\n",
              "      <td>гражданский брак</td>\n",
              "      <td>1</td>\n",
              "      <td>1</td>\n",
              "      <td>165127</td>\n",
              "      <td>недвижимость</td>\n",
              "    </tr>\n",
              "  </tbody>\n",
              "</table>\n",
              "</div>"
            ],
            "text/plain": [
              "    children     family_status  family_status_id  debt  total_income  \\\n",
              "0          1   женат / замужем                 0     0        253875   \n",
              "1          1   женат / замужем                 0     0        112080   \n",
              "2          0   женат / замужем                 0     0        145885   \n",
              "3          3   женат / замужем                 0     0        267628   \n",
              "4          0  гражданский брак                 1     0        158616   \n",
              "5          0  гражданский брак                 1     0        255763   \n",
              "6          0   женат / замужем                 0     0        240525   \n",
              "7          0   женат / замужем                 0     0        135823   \n",
              "8          2  гражданский брак                 1     0         95856   \n",
              "9          0   женат / замужем                 0     0        144425   \n",
              "10         2   женат / замужем                 0     0        113943   \n",
              "11         0   женат / замужем                 0     0         77069   \n",
              "12         0  гражданский брак                 1     0        145017   \n",
              "13         0   женат / замужем                 0     0        130458   \n",
              "14         0  гражданский брак                 1     1        165127   \n",
              "\n",
              "         purpose  \n",
              "0   недвижимость  \n",
              "1     автомобиль  \n",
              "2   недвижимость  \n",
              "3    образование  \n",
              "4        свадьба  \n",
              "5   недвижимость  \n",
              "6   недвижимость  \n",
              "7    образование  \n",
              "8        свадьба  \n",
              "9   недвижимость  \n",
              "10  недвижимость  \n",
              "11  недвижимость  \n",
              "12       свадьба  \n",
              "13    автомобиль  \n",
              "14  недвижимость  "
            ]
          },
          "metadata": {
            "tags": []
          },
          "execution_count": 196
        }
      ]
    },
    {
      "cell_type": "markdown",
      "metadata": {
        "id": "iwS34MdmTPib"
      },
      "source": [
        "**Вывод**"
      ]
    },
    {
      "cell_type": "markdown",
      "metadata": {
        "id": "KQJBntvPTPib"
      },
      "source": [
        "Первоначально визуально просмотрел уникальные значения столбца 'purpose'. Увидел, что основных категорий 4: операции с недвижимостью, с автомобилями, с обучением и со свадьбами. С помощью лемматизации были обновлены значения столбца 'purpose'. Значения вышеупомянутого столбца были заменены на один из 4х вариантов."
      ]
    },
    {
      "cell_type": "markdown",
      "metadata": {
        "id": "GypWKGyWTPib"
      },
      "source": [
        "### Категоризация данных"
      ]
    },
    {
      "cell_type": "code",
      "metadata": {
        "id": "mvAedgn1TPib"
      },
      "source": [
        "#Создание таблицы для категории 'children'\n",
        "df_children = solvency_table[['children', 'debt']] \n",
        "df_children = df_children.groupby('children').sum().sort_values(by = 'children', ascending = True)\n",
        "df_children['total_debt'] = solvency_table.groupby('children')['debt'].count().sort_values()\n",
        "df_children['debt/total_debt'] = (df_children['debt'] / df_children['total_debt']) * 100"
      ],
      "execution_count": null,
      "outputs": []
    },
    {
      "cell_type": "code",
      "metadata": {
        "id": "AkXSkzyITPic"
      },
      "source": [
        "#Создание таблицы для категории 'family_status'\n",
        "df_family_status = solvency_table[['family_status', 'debt']] \n",
        "df_family_status = df_family_status.groupby('family_status').sum().sort_values(by = 'family_status', ascending = True)\n",
        "df_family_status['total_debt'] = solvency_table.groupby('family_status')['debt'].count().sort_values()\n",
        "df_family_status['debt/total_debt'] = (df_family_status['debt'] / df_family_status['total_debt']) * 100"
      ],
      "execution_count": null,
      "outputs": []
    },
    {
      "cell_type": "code",
      "metadata": {
        "id": "JtJcddvnTPic"
      },
      "source": [
        "#Создание таблицы для категории 'total_income_lvl'\n",
        "def salary_lvl(salary):\n",
        "    if salary < 200000:\n",
        "        return 'до 200 000'\n",
        "    if 200000 <= salary < 400000:\n",
        "        return 'от 200 000 до 400 000'\n",
        "    if 400000 <= salary < 600000:\n",
        "        return 'от 400 000 до 600 000'\n",
        "    if 600000 <= salary < 800000:\n",
        "        return 'от 600 000 до 800 000'\n",
        "    if 800000 <= salary < 900000:\n",
        "        return 'от 800 000 до 1 000 000'\n",
        "    if salary > 1000000:\n",
        "        return 'больше 1 000 000'\n",
        "\n",
        "solvency_table['total_income_lvl'] = solvency_table['total_income'].apply(salary_lvl)\n",
        "df_total_income_lvl = solvency_table[['total_income_lvl', 'debt']] \n",
        "df_total_income_lvl = df_total_income_lvl.groupby('total_income_lvl').sum()\n",
        "df_total_income_lvl['total_debt'] = solvency_table.groupby('total_income_lvl')['debt'].count()\n",
        "df_total_income_lvl['debt/total_debt'] = (df_total_income_lvl['debt'] / df_total_income_lvl['total_debt']) * 100"
      ],
      "execution_count": null,
      "outputs": []
    },
    {
      "cell_type": "code",
      "metadata": {
        "id": "DrzXi5EyTPid"
      },
      "source": [
        "#Создание таблицы для категории 'purpose'\n",
        "df_purpose = solvency_table[['purpose', 'debt']] \n",
        "df_purpose = df_purpose.groupby('purpose').sum().sort_values(by = 'purpose', ascending = True)\n",
        "df_purpose['total_debt'] = solvency_table.groupby('purpose')['debt'].count().sort_values()\n",
        "df_purpose['debt/total_debt'] = (df_purpose['debt'] / df_purpose['total_debt']) * 100"
      ],
      "execution_count": null,
      "outputs": []
    },
    {
      "cell_type": "markdown",
      "metadata": {
        "id": "WMTr9GJ1TPid"
      },
      "source": [
        "***Общий вывод***"
      ]
    },
    {
      "cell_type": "markdown",
      "metadata": {
        "id": "t8_iW4C3TPie"
      },
      "source": [
        "Было произведено разделение на категории. Бысли созданны отдельные таблицы по каждой категории. "
      ]
    },
    {
      "cell_type": "markdown",
      "metadata": {
        "id": "2vVvzVA6TPie"
      },
      "source": [
        "## Шаг 3. Ответы на вопросы"
      ]
    },
    {
      "cell_type": "markdown",
      "metadata": {
        "id": "8lCBb3OhTPie"
      },
      "source": [
        "- Есть ли зависимость между наличием детей и возвратом кредита в срок?"
      ]
    },
    {
      "cell_type": "code",
      "metadata": {
        "id": "mWuMPQmjTPie",
        "outputId": "baccdbef-6023-48fd-b0a1-9ccb2a311eee"
      },
      "source": [
        "df_children.sort_values(by = 'debt/total_debt', ascending = False)"
      ],
      "execution_count": null,
      "outputs": [
        {
          "output_type": "execute_result",
          "data": {
            "text/html": [
              "<div>\n",
              "<style scoped>\n",
              "    .dataframe tbody tr th:only-of-type {\n",
              "        vertical-align: middle;\n",
              "    }\n",
              "\n",
              "    .dataframe tbody tr th {\n",
              "        vertical-align: top;\n",
              "    }\n",
              "\n",
              "    .dataframe thead th {\n",
              "        text-align: right;\n",
              "    }\n",
              "</style>\n",
              "<table border=\"1\" class=\"dataframe\">\n",
              "  <thead>\n",
              "    <tr style=\"text-align: right;\">\n",
              "      <th></th>\n",
              "      <th>debt</th>\n",
              "      <th>total_debt</th>\n",
              "      <th>debt/total_debt</th>\n",
              "    </tr>\n",
              "    <tr>\n",
              "      <th>children</th>\n",
              "      <th></th>\n",
              "      <th></th>\n",
              "      <th></th>\n",
              "    </tr>\n",
              "  </thead>\n",
              "  <tbody>\n",
              "    <tr>\n",
              "      <td>20</td>\n",
              "      <td>8</td>\n",
              "      <td>76</td>\n",
              "      <td>10.526316</td>\n",
              "    </tr>\n",
              "    <tr>\n",
              "      <td>4</td>\n",
              "      <td>4</td>\n",
              "      <td>40</td>\n",
              "      <td>10.000000</td>\n",
              "    </tr>\n",
              "    <tr>\n",
              "      <td>2</td>\n",
              "      <td>192</td>\n",
              "      <td>1927</td>\n",
              "      <td>9.963674</td>\n",
              "    </tr>\n",
              "    <tr>\n",
              "      <td>1</td>\n",
              "      <td>436</td>\n",
              "      <td>4520</td>\n",
              "      <td>9.646018</td>\n",
              "    </tr>\n",
              "    <tr>\n",
              "      <td>3</td>\n",
              "      <td>27</td>\n",
              "      <td>325</td>\n",
              "      <td>8.307692</td>\n",
              "    </tr>\n",
              "    <tr>\n",
              "      <td>0</td>\n",
              "      <td>1017</td>\n",
              "      <td>12935</td>\n",
              "      <td>7.862389</td>\n",
              "    </tr>\n",
              "    <tr>\n",
              "      <td>5</td>\n",
              "      <td>0</td>\n",
              "      <td>9</td>\n",
              "      <td>0.000000</td>\n",
              "    </tr>\n",
              "  </tbody>\n",
              "</table>\n",
              "</div>"
            ],
            "text/plain": [
              "          debt  total_debt  debt/total_debt\n",
              "children                                   \n",
              "20           8          76        10.526316\n",
              "4            4          40        10.000000\n",
              "2          192        1927         9.963674\n",
              "1          436        4520         9.646018\n",
              "3           27         325         8.307692\n",
              "0         1017       12935         7.862389\n",
              "5            0           9         0.000000"
            ]
          },
          "metadata": {
            "tags": []
          },
          "execution_count": 203
        }
      ]
    },
    {
      "cell_type": "markdown",
      "metadata": {
        "id": "XgT2ij63TPif"
      },
      "source": [
        "В категории 'children' не видна ярко выраженная зависимость процента возврата кредита от числа детей. Можно сказать, что люди, у которых нет детей, реже имеют задолжности, чем те, у кого дети есть. Для количества детей равного 5 мало данных, поэтому нельзя сделать никаких выводов для жтой позиции."
      ]
    },
    {
      "cell_type": "markdown",
      "metadata": {
        "id": "SO6JWACETPif"
      },
      "source": [
        "- Есть ли зависимость между семейным положением и возвратом кредита в срок?"
      ]
    },
    {
      "cell_type": "code",
      "metadata": {
        "id": "ZwrlWhT1TPif",
        "outputId": "1a722a3b-adf9-40af-fc92-586ec759d239"
      },
      "source": [
        "df_family_status.sort_values(by = 'debt/total_debt', ascending = False)"
      ],
      "execution_count": null,
      "outputs": [
        {
          "output_type": "execute_result",
          "data": {
            "text/html": [
              "<div>\n",
              "<style scoped>\n",
              "    .dataframe tbody tr th:only-of-type {\n",
              "        vertical-align: middle;\n",
              "    }\n",
              "\n",
              "    .dataframe tbody tr th {\n",
              "        vertical-align: top;\n",
              "    }\n",
              "\n",
              "    .dataframe thead th {\n",
              "        text-align: right;\n",
              "    }\n",
              "</style>\n",
              "<table border=\"1\" class=\"dataframe\">\n",
              "  <thead>\n",
              "    <tr style=\"text-align: right;\">\n",
              "      <th></th>\n",
              "      <th>debt</th>\n",
              "      <th>total_debt</th>\n",
              "      <th>debt/total_debt</th>\n",
              "    </tr>\n",
              "    <tr>\n",
              "      <th>family_status</th>\n",
              "      <th></th>\n",
              "      <th></th>\n",
              "      <th></th>\n",
              "    </tr>\n",
              "  </thead>\n",
              "  <tbody>\n",
              "    <tr>\n",
              "      <td>Не женат / не замужем</td>\n",
              "      <td>272</td>\n",
              "      <td>2616</td>\n",
              "      <td>10.397554</td>\n",
              "    </tr>\n",
              "    <tr>\n",
              "      <td>гражданский брак</td>\n",
              "      <td>367</td>\n",
              "      <td>3845</td>\n",
              "      <td>9.544863</td>\n",
              "    </tr>\n",
              "    <tr>\n",
              "      <td>женат / замужем</td>\n",
              "      <td>898</td>\n",
              "      <td>11315</td>\n",
              "      <td>7.936368</td>\n",
              "    </tr>\n",
              "    <tr>\n",
              "      <td>в разводе</td>\n",
              "      <td>85</td>\n",
              "      <td>1149</td>\n",
              "      <td>7.397737</td>\n",
              "    </tr>\n",
              "    <tr>\n",
              "      <td>вдовец / вдова</td>\n",
              "      <td>62</td>\n",
              "      <td>907</td>\n",
              "      <td>6.835722</td>\n",
              "    </tr>\n",
              "  </tbody>\n",
              "</table>\n",
              "</div>"
            ],
            "text/plain": [
              "                       debt  total_debt  debt/total_debt\n",
              "family_status                                           \n",
              "Не женат / не замужем   272        2616        10.397554\n",
              "гражданский брак        367        3845         9.544863\n",
              "женат / замужем         898       11315         7.936368\n",
              "в разводе                85        1149         7.397737\n",
              "вдовец / вдова           62         907         6.835722"
            ]
          },
          "metadata": {
            "tags": []
          },
          "execution_count": 204
        }
      ]
    },
    {
      "cell_type": "markdown",
      "metadata": {
        "id": "vAKIH8QsTPif"
      },
      "source": [
        "Видна зависимость задолжностей от семейного положения. Люди, которые не состоят в браке, чаще имеют задолжности. Меньше всего задолжностей имеют вдовцы и вдовы."
      ]
    },
    {
      "cell_type": "markdown",
      "metadata": {
        "id": "6b8yWBIbTPif"
      },
      "source": [
        "- Есть ли зависимость между уровнем дохода и возвратом кредита в срок?"
      ]
    },
    {
      "cell_type": "code",
      "metadata": {
        "id": "DsUnIx3OTPig",
        "outputId": "9752f680-4432-4f4e-b7f9-48f50bb291bb"
      },
      "source": [
        "df_total_income_lvl.sort_values(by = 'debt/total_debt', ascending = False)"
      ],
      "execution_count": null,
      "outputs": [
        {
          "output_type": "execute_result",
          "data": {
            "text/html": [
              "<div>\n",
              "<style scoped>\n",
              "    .dataframe tbody tr th:only-of-type {\n",
              "        vertical-align: middle;\n",
              "    }\n",
              "\n",
              "    .dataframe tbody tr th {\n",
              "        vertical-align: top;\n",
              "    }\n",
              "\n",
              "    .dataframe thead th {\n",
              "        text-align: right;\n",
              "    }\n",
              "</style>\n",
              "<table border=\"1\" class=\"dataframe\">\n",
              "  <thead>\n",
              "    <tr style=\"text-align: right;\">\n",
              "      <th></th>\n",
              "      <th>debt</th>\n",
              "      <th>total_debt</th>\n",
              "      <th>debt/total_debt</th>\n",
              "    </tr>\n",
              "    <tr>\n",
              "      <th>total_income_lvl</th>\n",
              "      <th></th>\n",
              "      <th></th>\n",
              "      <th></th>\n",
              "    </tr>\n",
              "  </thead>\n",
              "  <tbody>\n",
              "    <tr>\n",
              "      <td>от 800 000 до 1 000 000</td>\n",
              "      <td>2</td>\n",
              "      <td>12</td>\n",
              "      <td>16.666667</td>\n",
              "    </tr>\n",
              "    <tr>\n",
              "      <td>до 200 000</td>\n",
              "      <td>1326</td>\n",
              "      <td>14766</td>\n",
              "      <td>8.980089</td>\n",
              "    </tr>\n",
              "    <tr>\n",
              "      <td>больше 1 000 000</td>\n",
              "      <td>2</td>\n",
              "      <td>25</td>\n",
              "      <td>8.000000</td>\n",
              "    </tr>\n",
              "    <tr>\n",
              "      <td>от 200 000 до 400 000</td>\n",
              "      <td>327</td>\n",
              "      <td>4538</td>\n",
              "      <td>7.205818</td>\n",
              "    </tr>\n",
              "    <tr>\n",
              "      <td>от 600 000 до 800 000</td>\n",
              "      <td>4</td>\n",
              "      <td>66</td>\n",
              "      <td>6.060606</td>\n",
              "    </tr>\n",
              "    <tr>\n",
              "      <td>от 400 000 до 600 000</td>\n",
              "      <td>23</td>\n",
              "      <td>419</td>\n",
              "      <td>5.489260</td>\n",
              "    </tr>\n",
              "  </tbody>\n",
              "</table>\n",
              "</div>"
            ],
            "text/plain": [
              "                         debt  total_debt  debt/total_debt\n",
              "total_income_lvl                                          \n",
              "от 800 000 до 1 000 000     2          12        16.666667\n",
              "до 200 000               1326       14766         8.980089\n",
              "больше 1 000 000            2          25         8.000000\n",
              "от 200 000 до 400 000     327        4538         7.205818\n",
              "от 600 000 до 800 000       4          66         6.060606\n",
              "от 400 000 до 600 000      23         419         5.489260"
            ]
          },
          "metadata": {
            "tags": []
          },
          "execution_count": 205
        }
      ]
    },
    {
      "cell_type": "markdown",
      "metadata": {
        "id": "JdjXoQy9TPig"
      },
      "source": [
        "Наблюдается зависимость наличия задолжностей от уровня ежемесячного дохода. Чаще имеют задолжности люди с доходом от 800 000 р до 1 000 000 р. Реже всего имеют задолжности люди с доходом от 400 000 до 600 000."
      ]
    },
    {
      "cell_type": "markdown",
      "metadata": {
        "id": "WbbLNKtuTPig"
      },
      "source": [
        "- Как разные цели кредита влияют на его возврат в срок?"
      ]
    },
    {
      "cell_type": "code",
      "metadata": {
        "id": "UosgnF-STPig",
        "outputId": "afc6181e-7076-4ac5-aa49-1c6da30d45a1"
      },
      "source": [
        "df_purpose.sort_values(by = 'debt/total_debt', ascending = False)"
      ],
      "execution_count": null,
      "outputs": [
        {
          "output_type": "execute_result",
          "data": {
            "text/html": [
              "<div>\n",
              "<style scoped>\n",
              "    .dataframe tbody tr th:only-of-type {\n",
              "        vertical-align: middle;\n",
              "    }\n",
              "\n",
              "    .dataframe tbody tr th {\n",
              "        vertical-align: top;\n",
              "    }\n",
              "\n",
              "    .dataframe thead th {\n",
              "        text-align: right;\n",
              "    }\n",
              "</style>\n",
              "<table border=\"1\" class=\"dataframe\">\n",
              "  <thead>\n",
              "    <tr style=\"text-align: right;\">\n",
              "      <th></th>\n",
              "      <th>debt</th>\n",
              "      <th>total_debt</th>\n",
              "      <th>debt/total_debt</th>\n",
              "    </tr>\n",
              "    <tr>\n",
              "      <th>purpose</th>\n",
              "      <th></th>\n",
              "      <th></th>\n",
              "      <th></th>\n",
              "    </tr>\n",
              "  </thead>\n",
              "  <tbody>\n",
              "    <tr>\n",
              "      <td>автомобиль</td>\n",
              "      <td>394</td>\n",
              "      <td>4012</td>\n",
              "      <td>9.820538</td>\n",
              "    </tr>\n",
              "    <tr>\n",
              "      <td>образование</td>\n",
              "      <td>358</td>\n",
              "      <td>3712</td>\n",
              "      <td>9.644397</td>\n",
              "    </tr>\n",
              "    <tr>\n",
              "      <td>свадьба</td>\n",
              "      <td>166</td>\n",
              "      <td>2117</td>\n",
              "      <td>7.841285</td>\n",
              "    </tr>\n",
              "    <tr>\n",
              "      <td>недвижимость</td>\n",
              "      <td>766</td>\n",
              "      <td>9991</td>\n",
              "      <td>7.666900</td>\n",
              "    </tr>\n",
              "  </tbody>\n",
              "</table>\n",
              "</div>"
            ],
            "text/plain": [
              "              debt  total_debt  debt/total_debt\n",
              "purpose                                        \n",
              "автомобиль     394        4012         9.820538\n",
              "образование    358        3712         9.644397\n",
              "свадьба        166        2117         7.841285\n",
              "недвижимость   766        9991         7.666900"
            ]
          },
          "metadata": {
            "tags": []
          },
          "execution_count": 206
        }
      ]
    },
    {
      "cell_type": "markdown",
      "metadata": {
        "id": "XCOJc1sJTPih"
      },
      "source": [
        "Видна зависимость между целью кредита и количеством задолжностей. Чаще имеют задолжности на цели образования и покупку автомобиля."
      ]
    },
    {
      "cell_type": "markdown",
      "metadata": {
        "id": "KjLlIOdZTPih"
      },
      "source": [
        "## Шаг 4. Общий вывод"
      ]
    },
    {
      "cell_type": "markdown",
      "metadata": {
        "id": "QAgFGpmYTPih"
      },
      "source": [
        "В данной работе были пройдены следающие этапы:\n",
        "- открытие исходной таблицы\n",
        "- визуальный анализ столбцов и строк\n",
        "- создание таблицы на основе исходной, но только с теми столбцами, которые нужны\n",
        "- в столбце 'total_income' пропуски были заменены медианой\n",
        "- в столбце 'children' отрицательные значения были взяты по модулю\n",
        "- в таблице было обнаружено довольно большое количество дубликатов, которые в последствии были удалены\n",
        "- были восстановленны индексы таблицы, после удаления дубликатов\n",
        "- с помощью лемматизации были заменены словосочетания из столбца 'purpose' на удобные тэги\n",
        "- были выведены таблицы, где видна зависимость задолжностей от различных показателей\n",
        "- по каждой таблице были сделаны выводы\n",
        "\n",
        "В итоге можно сказать, что зависимость наличия задолжностей от от различных факторов наблюдается. В некоторых случаях она наблюдается ярче (уровень заработка и цель кредита), в некоторых случаях зависимость видна не так ярко (наличие/количество детей, семейное положение.\n",
        "\n",
        "Я бы рекомендовал при принятии решения о выдаче кредита смотреть на данные показатели в совокупности. Тогда можно было бы точнее предположить вероятность возникновения задолжностей."
      ]
    }
  ]
}